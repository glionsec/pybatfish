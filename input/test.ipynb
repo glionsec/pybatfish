{
 "cells": [
  {
   "cell_type": "markdown",
   "id": "bfd00b65",
   "metadata": {},
   "source": [
    "初期設定"
   ]
  },
  {
   "cell_type": "code",
   "execution_count": null,
   "id": "915b8f77",
   "metadata": {},
   "outputs": [],
   "source": [
    "%run /notebooks/startup.py"
   ]
  },
  {
   "cell_type": "markdown",
   "id": "3ea2567c",
   "metadata": {},
   "source": [
    "スナップショットの作成"
   ]
  },
  {
   "cell_type": "code",
   "execution_count": null,
   "id": "e58c59e1",
   "metadata": {},
   "outputs": [],
   "source": [
    "SNAPSHOT_PATH = \"networks/example-filters/current\" #対象フォルダの指定\n",
    "SNAPSHOT_NAME = \"current\" #スナップショット名"
   ]
  },
  {
   "cell_type": "markdown",
   "id": "fe9d4683",
   "metadata": {},
   "source": [
    "セッションの作成"
   ]
  },
  {
   "cell_type": "code",
   "execution_count": null,
   "id": "483cf29b",
   "metadata": {},
   "outputs": [],
   "source": [
    "bf = Session(host=\"localhost\") #ホストの指定（batfishの動いているローカルを指定）\n",
    "bf.set_network(\"network-example-filters\") #ネットワーク名の指定\n",
    "bf.init_snapshot(SNAPSHOT_PATH, name=SNAPSHOT_NAME, overwrite=True) #スナップショットの初期化"
   ]
  },
  {
   "cell_type": "markdown",
   "id": "06e3372a",
   "metadata": {},
   "source": [
    "ACLで無駄な行があるかを検索"
   ]
  },
  {
   "cell_type": "code",
   "execution_count": null,
   "id": "066cae80",
   "metadata": {},
   "outputs": [],
   "source": [
    "aclAns = bf.q.filterLineReachability(nodes=\"rtr-with-acl\").answer()\n",
    "show(aclAns.frame().sort_values(by=\"Unreachable_Line\"))"
   ]
  },
  {
   "cell_type": "markdown",
   "id": "6086644f",
   "metadata": {},
   "source": [
    "特定のIPからの疎通確認"
   ]
  },
  {
   "cell_type": "code",
   "execution_count": null,
   "id": "80c4b03a",
   "metadata": {},
   "outputs": [],
   "source": [
    "flow_name = HeaderConstraints(srcIps=\"10.10.10.1\",#送信元アドレス\n",
    "                            dstIps=\"218.8.104.58\",#宛先アドレス\n",
    "                            applications=[\"dns\"])#アプリケーション\n",
    "answer = bf.q.testFilters(headers=flow_name,\n",
    "                        nodes=\"rtr-with-acl\",#解析するACLを持つ機器のホスト名\n",
    "                        filters=\"acl_in\").answer()#解析するACLの名前\n",
    "show(answer.frame())"
   ]
  },
  {
   "cell_type": "markdown",
   "id": "8ad8ac0f",
   "metadata": {},
   "source": [
    "特定のサブネットからの疎通確認"
   ]
  },
  {
   "cell_type": "code",
   "execution_count": null,
   "id": "22623dd6",
   "metadata": {},
   "outputs": [],
   "source": [
    "traffic_name = HeaderConstraints(srcIps=\"10.10.10.0/24\",#送信元サブネットを記入\n",
    "                                dstIps=\"218.8.104.58\",#宛先IPを記入\n",
    "                                ipProtocols=[\"tcp\",\"udp\"])#プロトコルを指定\n",
    "answer = bf.q.searchFilters(headers=traffic_name,\n",
    "                            action=\"deny\", #\"deny\"or\"permit\"を記入\n",
    "                            filters=\"acl_in\").answer()\n",
    "show(answer.frame())"
   ]
  },
  {
   "cell_type": "markdown",
   "id": "7176b8a1",
   "metadata": {},
   "source": [
    "トレースルートの確認"
   ]
  },
  {
   "cell_type": "code",
   "execution_count": null,
   "id": "b105c432",
   "metadata": {},
   "outputs": [],
   "source": [
    "SNAPSHOT_PATH = \"networks/example\" #config格納のパスを指定\n",
    "\n",
    "# Import packages\n",
    "%run startup.py\n",
    "bf = Session(host=\"localhost\")\n",
    "\n",
    "NETWORK_NAME = \"example_network\"\n",
    "SNAPSHOT_NAME = \"example_snapshot\"\n",
    "\n",
    "bf.set_network(NETWORK_NAME)\n",
    "bf.init_snapshot(SNAPSHOT_PATH, name=SNAPSHOT_NAME, overwrite=True)\n"
   ]
  },
  {
   "cell_type": "code",
   "execution_count": null,
   "id": "7694653a",
   "metadata": {},
   "outputs": [],
   "source": [
    "# start the traceroute from the Loopback0 interface of as3core1 to host1\n",
    "headers = HeaderConstraints(dstIps='host1') #宛先のIP or ホスト名を指定\n",
    "tracert = bf.q.traceroute(startLocation=\"as3core1[Loopback0]\",  headers=headers).answer().frame() #開始ホスト名[開始ポート]を指定\n",
    "\n",
    "show(tracert)"
   ]
  },
  {
   "cell_type": "markdown",
   "id": "5ff54789",
   "metadata": {},
   "source": [
    "ルーティングテーブルの表示"
   ]
  },
  {
   "cell_type": "code",
   "execution_count": null,
   "id": "de1ef9a5",
   "metadata": {},
   "outputs": [],
   "source": [
    "routes_all = bf.q.routes().answer().frame()\n",
    "show(routes_all)"
   ]
  },
  {
   "cell_type": "markdown",
   "id": "4ad4a020",
   "metadata": {},
   "source": [
    "サブネットの一覧表示"
   ]
  },
  {
   "cell_type": "code",
   "execution_count": null,
   "id": "04ea8b1e",
   "metadata": {},
   "outputs": [],
   "source": [
    "ip = bf.q.ipOwners().answer().frame()\n",
    "show(ip)"
   ]
  },
  {
   "cell_type": "code",
   "execution_count": null,
   "id": "8b0912dc",
   "metadata": {},
   "outputs": [],
   "source": [
    "import ipaddress\n",
    "\n",
    "# サブネット一覧を表示\n",
    "subnets = bf.q.ipOwners().answer().frame()\n",
    "# 表示はIP/MASKの形式\n",
    "df = subnets.loc[:,['IP','Mask']]\n",
    "\n",
    "# IPアドレスとサブネットマスクを結合してIPアドレス/サブネットマスクの形式に変換する関数\n",
    "def to_cidr(ip, mask):\n",
    "    return f\"{ip}/{mask}\"\n",
    "\n",
    "# applyメソッドを使って各行のIPアドレスとサブネットマスクを結合し、配列に保存\n",
    "ip_subnet_array = df.apply(lambda row: to_cidr(row['IP'], row['Mask']), axis=1).to_numpy()\n",
    "\n",
    "# 結果を表示\n",
    "print(ip_subnet_array)"
   ]
  },
  {
   "cell_type": "code",
   "execution_count": null,
   "id": "d9acb226",
   "metadata": {},
   "outputs": [],
   "source": [
    "import ipaddress\n",
    "\n",
    "# サブネット一覧を表示\n",
    "subnets = bf.q.ipOwners().answer().frame()\n",
    "# 表示はIP/MASKの形式\n",
    "df = subnets.loc[:, ['IP', 'Mask', 'Interface']]  # 'Interface'列も取得する\n",
    "\n",
    "# IPアドレスとサブネットマスクを結合してIPアドレス/サブネットマスクの形式に変換する関数\n",
    "def to_cidr(row):\n",
    "    # \"Interface\"が\"Loopback0\"の場合は処理をスキップしてNoneを返す\n",
    "    if row['Interface'] == 'Loopback0':\n",
    "        return None\n",
    "    return f\"{row['IP']}/{row['Mask']}\"\n",
    "\n",
    "# applyメソッドを使って各行のIPアドレスとサブネットマスクを結合し、配列に保存\n",
    "ip_subnet_array = df.apply(to_cidr, axis=1).dropna().to_numpy()\n",
    "\n",
    "# ネットワークをまとめる\n",
    "def aggregate_networks(ip_subnet_array):\n",
    "    networks = []\n",
    "    for item in ip_subnet_array:\n",
    "        network = ipaddress.IPv4Network(item, strict=False)\n",
    "        networks.append(network)\n",
    "    aggregated_networks = ipaddress.collapse_addresses(networks)\n",
    "    return [str(net) for net in aggregated_networks]\n",
    "\n",
    "# 結果を表示\n",
    "print(\"結果:\", aggregate_networks(ip_subnet_array))\n"
   ]
  },
  {
   "cell_type": "markdown",
   "id": "4e745442",
   "metadata": {},
   "source": [
    "Vlan情報の出力"
   ]
  },
  {
   "cell_type": "code",
   "execution_count": null,
   "id": "0f86fb3b",
   "metadata": {},
   "outputs": [],
   "source": [
    "SNAPSHOT_PATH = \"input/test\" #対象フォルダの指定\n",
    "SNAPSHOT_NAME = \"test\" #スナップショット名\n",
    "bf = Session(host=\"localhost\") #ホストの指定（batfishの動いているローカルを指定）\n",
    "bf.set_network(\"test\") #ネットワーク名の指定\n",
    "bf.init_snapshot(SNAPSHOT_PATH, name=SNAPSHOT_NAME, overwrite=True) #スナップショットの初期化"
   ]
  },
  {
   "cell_type": "code",
   "execution_count": null,
   "id": "d92d73cd",
   "metadata": {},
   "outputs": [],
   "source": [
    "result = bf.q.switchedVlanProperties().answer().frame()\n",
    "show(result)"
   ]
  },
  {
   "cell_type": "code",
   "execution_count": null,
   "id": "5a314775",
   "metadata": {},
   "outputs": [],
   "source": [
    "result = bf.q.interfaceProperties().answer().frame()\n",
    "show(result)"
   ]
  },
  {
   "cell_type": "code",
   "execution_count": null,
   "id": "a2663010",
   "metadata": {},
   "outputs": [],
   "source": [
    "import ipaddress\n",
    "\n",
    "# サブネット一覧を表示\n",
    "interface_info = bf.q.interfaceProperties().answer().frame()\n",
    "# 表示はIP/MASKの形式\n",
    "df = interface_info.loc[:, ['Interface', 'All_Prefixes']]\n",
    "\n",
    "# \"Interface\"に\"Vlan\"が含まれる行のみを抽出\n",
    "vlan_df = df.query('Interface.astype(\"str\").str.contains(\"Vlan\", na = False)', engine='python')\n",
    "\n",
    "vlan_df\n"
   ]
  },
  {
   "cell_type": "code",
   "execution_count": null,
   "id": "719d2621",
   "metadata": {},
   "outputs": [],
   "source": [
    "import ipaddress\n",
    "\n",
    "# サブネット一覧を表示\n",
    "interface_info = bf.q.interfaceProperties().answer().frame()\n",
    "# 表示はIP/MASKの形式\n",
    "df = interface_info.loc[:, ['Interface', 'All_Prefixes']]\n",
    "\n",
    "# \"Interface\"に\"Vlan\"が含まれる行のみを抽出\n",
    "vlan_df = df.query('Interface.astype(\"str\").str.contains(\"Vlan\", na=False)', engine='python')\n",
    "\n",
    "network_addresses = []\n",
    "for index, row in vlan_df.iterrows():\n",
    "    # \"router[]\"を削除して、インターフェース名を取得\n",
    "    interface_name = str(row['Interface']).replace('router[', '').rstrip(']')\n",
    "    # \"All_Prefixes\"列からIPアドレスを取得して、ネットワークアドレスに変換\n",
    "    all_prefixes = row['All_Prefixes']\n",
    "    if all_prefixes:\n",
    "        # ネットワークアドレスを取得\n",
    "        network_address = all_prefixes[0]\n",
    "        network_addresses.append([interface_name, network_address])\n",
    "    else:\n",
    "        network_addresses.append([interface_name, None])\n",
    "\n",
    "network_addresses\n"
   ]
  },
  {
   "cell_type": "markdown",
   "id": "372bb1d7",
   "metadata": {},
   "source": [
    "ACLの出力"
   ]
  },
  {
   "cell_type": "code",
   "execution_count": null,
   "id": "692818d8",
   "metadata": {},
   "outputs": [],
   "source": [
    "SNAPSHOT_PATH = \"input/test\" #対象フォルダの指定\n",
    "SNAPSHOT_NAME = \"test\" #スナップショット名\n",
    "bf = Session(host=\"localhost\") #ホストの指定（batfishの動いているローカルを指定）\n",
    "bf.set_network(\"test\") #ネットワーク名の指定\n",
    "bf.init_snapshot(SNAPSHOT_PATH, name=SNAPSHOT_NAME, overwrite=True) #スナップショットの初期化"
   ]
  },
  {
   "cell_type": "code",
   "execution_count": null,
   "id": "d957916b",
   "metadata": {},
   "outputs": [],
   "source": [
    "result = bf.q.testFilters(headers=HeaderConstraints(dstIps='192.168.20.0/24', ipProtocols= ['tcp'])).answer().frame()\n",
    "\n",
    "result = result.sort_values(by=['Filter_Name', 'Flow'])\n",
    "\n",
    "result"
   ]
  },
  {
   "cell_type": "code",
   "execution_count": null,
   "id": "c91999ca",
   "metadata": {},
   "outputs": [],
   "source": [
    "result = bf.q.searchFilters(headers=HeaderConstraints()).answer().frame()\n",
    "result"
   ]
  },
  {
   "cell_type": "code",
   "execution_count": null,
   "id": "3857d22b",
   "metadata": {},
   "outputs": [],
   "source": []
  }
 ],
 "metadata": {
  "kernelspec": {
   "display_name": "Python 3 (ipykernel)",
   "language": "python",
   "name": "python3"
  },
  "language_info": {
   "codemirror_mode": {
    "name": "ipython",
    "version": 3
   },
   "file_extension": ".py",
   "mimetype": "text/x-python",
   "name": "python",
   "nbconvert_exporter": "python",
   "pygments_lexer": "ipython3",
   "version": "3.8.10"
  }
 },
 "nbformat": 4,
 "nbformat_minor": 5
}
